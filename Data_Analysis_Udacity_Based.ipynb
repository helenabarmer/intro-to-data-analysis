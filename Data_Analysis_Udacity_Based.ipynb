{
  "nbformat": 4,
  "nbformat_minor": 0,
  "metadata": {
    "colab": {
      "name": "Data_Analysis_Udacity_Based.ipynb",
      "provenance": [],
      "collapsed_sections": [],
      "authorship_tag": "ABX9TyMsliHEABemXm3jwcJ6FwlM",
      "include_colab_link": true
    },
    "kernelspec": {
      "name": "python3",
      "display_name": "Python 3"
    }
  },
  "cells": [
    {
      "cell_type": "markdown",
      "metadata": {
        "id": "view-in-github",
        "colab_type": "text"
      },
      "source": [
        "<a href=\"https://colab.research.google.com/github/helenabarmer/intro-to-data-analysis-/blob/master/Data_Analysis_Udacity_Based.ipynb\" target=\"_parent\"><img src=\"https://colab.research.google.com/assets/colab-badge.svg\" alt=\"Open In Colab\"/></a>"
      ]
    },
    {
      "cell_type": "markdown",
      "metadata": {
        "id": "8gVBvVcVVhMU",
        "colab_type": "text"
      },
      "source": [
        "This notebook is based on the Udacity course [Intro to Data Analysis](https://www.udacity.com/course/intro-to-data-analysis--ud170)"
      ]
    },
    {
      "cell_type": "markdown",
      "metadata": {
        "id": "7vpx1PhrV1m2",
        "colab_type": "text"
      },
      "source": [
        "# Step 1 - Data Wrangling Phase\n",
        "We will start with acquiring data.\n",
        "* **Acquiring data**\n",
        "* Cleaning data\n",
        "\n",
        "## Data Acquisition\n",
        "We will focus on getting our data from an URL.<br>\n",
        "You can also download it locally from the **Resources** section in the Udacity course.\n",
        "\n",
        "## Data Format\n",
        "We will work with **CSV files**, short for **C**omma **S**eparated **V**alues.<br>\n",
        "Here is a raw notepad format of the first 5 rows of our data: <br>\n",
        "\n",
        "```\n",
        "account_key,status,join_date,cancel_date,days_to_cancel,is_udacity,is_canceled\n",
        "448,canceled,2014-11-10,2015-01-14,65,True,True\n",
        "448,canceled,2014-11-05,2014-11-10,5,True,True\n",
        "448,canceled,2015-01-27,2015-01-27,0,True,True\n",
        "448,canceled,2014-11-10,2014-11-10,0,True,True\n",
        "448,current,2015-03-10,,,True,False\n",
        "```\n",
        "* **Rows** show us every time a student enrolls in a course\n",
        "* **Columns** describes an attribute with information for the enrollment\n",
        "* Every value is separated by a **comma** \n",
        "* You can only loop over an iterator **once**\n",
        "* with statement: We do not have to use the close() method with this statement. More information [here](https://www.geeksforgeeks.org/with-statement-in-python/)."
      ]
    },
    {
      "cell_type": "code",
      "metadata": {
        "id": "z_U1dx94yUql",
        "colab_type": "code",
        "outputId": "42ca3f75-a03c-465f-f11c-08ab38c78697",
        "colab": {
          "base_uri": "https://localhost:8080/",
          "height": 35
        }
      },
      "source": [
        "# Install unicodecsv in Google Colab\n",
        "!pip install unicodecsv"
      ],
      "execution_count": 1,
      "outputs": [
        {
          "output_type": "stream",
          "text": [
            "Requirement already satisfied: unicodecsv in /usr/local/lib/python3.6/dist-packages (0.14.1)\n"
          ],
          "name": "stdout"
        }
      ]
    },
    {
      "cell_type": "markdown",
      "metadata": {
        "id": "_ipmSTCkzP6v",
        "colab_type": "text"
      },
      "source": [
        "# Quiz: CSVs in Python\n",
        "\n",
        "## Get the data\n",
        "1. Download all the files below. <br>\n",
        "  * [Download enrollments data from Udacity](https://www.udacity.com/api/nodes/5430778793/supplemental_media/enrollmentscsv/download)<br>\n",
        "  * [Download engagements data from Udacity](https://www.udacity.com/api/nodes/5430778793/supplemental_media/daily-engagementcsv/download)<br>\n",
        "  * [Download submissions data from Udacity](https://www.udacity.com/api/nodes/5430778793/supplemental_media/project-submissionscsv/download)<br>\n",
        "\n",
        "2. Upload the files to Google Colab: Choose Upload to the left and select the files\n",
        "\n",
        "3. Right click on the file name and select **Copy path**. Add the path to the filename in the code.\n",
        "<br>\n",
        "\n",
        "**Note that you will have to upload the data each time you start the notebook!**"
      ]
    },
    {
      "cell_type": "code",
      "metadata": {
        "id": "iZ9wnL1PcJq0",
        "colab_type": "code",
        "outputId": "b98eabf4-2753-42d1-8bfb-84688e2d9390",
        "colab": {
          "base_uri": "https://localhost:8080/",
          "height": 144
        }
      },
      "source": [
        "# Quiz: CSVs in Python, code\n",
        "\n",
        "# Import the library as csv\n",
        "import unicodecsv as csv\n",
        "\n",
        "# Add the path you have copied here\n",
        "enrollments_filename = '/content/enrollments.csv'\n",
        "\n",
        "## Longer version of code (replaced with shorter, equivalent version below)\n",
        "\n",
        "# enrollments = []\n",
        "# f = open(enrollments_filename, 'rb')\n",
        "# reader = csv.DictReader(f)\n",
        "# for row in reader:\n",
        "#     enrollments.append(row)\n",
        "# f.close()\n",
        "\n",
        "# rb: Open for reading binary data\n",
        "with open(enrollments_filename, 'rb') as f:\n",
        "\n",
        "    # Dictreader: Maps the information read into a dictionary\n",
        "    reader = csv.DictReader(f)\n",
        "\n",
        "    # Add keys and values to a list names enrollments\n",
        "    enrollments = list(reader)\n",
        "\n",
        "# First row of the data\n",
        "enrollments[0]"
      ],
      "execution_count": 2,
      "outputs": [
        {
          "output_type": "execute_result",
          "data": {
            "text/plain": [
              "OrderedDict([('account_key', '448'),\n",
              "             ('status', 'canceled'),\n",
              "             ('join_date', '2014-11-10'),\n",
              "             ('cancel_date', '2015-01-14'),\n",
              "             ('days_to_cancel', '65'),\n",
              "             ('is_udacity', 'True'),\n",
              "             ('is_canceled', 'True')])"
            ]
          },
          "metadata": {
            "tags": []
          },
          "execution_count": 2
        }
      ]
    },
    {
      "cell_type": "markdown",
      "metadata": {
        "id": "XqETWULe4nNe",
        "colab_type": "text"
      },
      "source": [
        "# Quiz time!\n",
        "Now it is time for us to add our own code.\n",
        " \n",
        "1. Write code similar to the above to load the engagement and submission data.\n",
        "2. Upload the data as explained above.\n",
        "3. See the first row of each table to make sure that your code works.\n"
      ]
    },
    {
      "cell_type": "code",
      "metadata": {
        "id": "dM-7s1-uxDcE",
        "colab_type": "code",
        "colab": {}
      },
      "source": [
        "# Let's add our code!\n",
        "\n",
        "# Add your engagement path here\n",
        "engagement_filename = ''\n",
        "\n",
        "# Add your submissions path here\n",
        "submissions_filename = ''\n",
        "\n",
        "# Replace this with your code   \n",
        "daily_engagement = None  \n",
        "\n",
        "# Replace this with your code\n",
        "project_submissions = None  "
      ],
      "execution_count": 0,
      "outputs": []
    },
    {
      "cell_type": "markdown",
      "metadata": {
        "id": "Gc2111R85MJX",
        "colab_type": "text"
      },
      "source": [
        "This is on way to solve the quiz!"
      ]
    },
    {
      "cell_type": "code",
      "metadata": {
        "id": "16T000On4UNV",
        "colab_type": "code",
        "outputId": "e46998ce-544b-4e19-8f90-a5a528fdaa46",
        "colab": {
          "base_uri": "https://localhost:8080/",
          "height": 126
        }
      },
      "source": [
        "engagement_filename = '/content/daily_engagement.csv'\n",
        "\n",
        "    \n",
        "with open(engagement_filename, 'rb') as f:\n",
        "    reader = csv.DictReader(f)\n",
        "    daily_engagement = list(reader) \n",
        "    \n",
        "# First row (we do not have to print it to display it)\n",
        "daily_engagement[0]"
      ],
      "execution_count": 4,
      "outputs": [
        {
          "output_type": "execute_result",
          "data": {
            "text/plain": [
              "OrderedDict([('acct', '0'),\n",
              "             ('utc_date', '2015-01-09'),\n",
              "             ('num_courses_visited', '1.0'),\n",
              "             ('total_minutes_visited', '11.6793745'),\n",
              "             ('lessons_completed', '0.0'),\n",
              "             ('projects_completed', '0.0')])"
            ]
          },
          "metadata": {
            "tags": []
          },
          "execution_count": 4
        }
      ]
    },
    {
      "cell_type": "code",
      "metadata": {
        "id": "-FmyT6Z_6F8n",
        "colab_type": "code",
        "outputId": "4bf02a6b-c977-4f91-cd50-c7362ce2d72a",
        "colab": {
          "base_uri": "https://localhost:8080/",
          "height": 126
        }
      },
      "source": [
        "submissions_filename = '/content/project_submissions.csv'\n",
        "\n",
        "with open(submissions_filename, 'rb') as f:\n",
        "\n",
        "  reader = csv.DictReader(f)\n",
        "  project_submissions = list(reader)  \n",
        "    \n",
        "# First row (we do not have to print it to display it)\n",
        "project_submissions[0]"
      ],
      "execution_count": 5,
      "outputs": [
        {
          "output_type": "execute_result",
          "data": {
            "text/plain": [
              "OrderedDict([('creation_date', '2015-01-14'),\n",
              "             ('completion_date', '2015-01-16'),\n",
              "             ('assigned_rating', 'UNGRADED'),\n",
              "             ('account_key', '256'),\n",
              "             ('lesson_key', '3176718735'),\n",
              "             ('processing_state', 'EVALUATED')])"
            ]
          },
          "metadata": {
            "tags": []
          },
          "execution_count": 5
        }
      ]
    },
    {
      "cell_type": "markdown",
      "metadata": {
        "id": "Kc4530AwQHKj",
        "colab_type": "text"
      },
      "source": [
        "# Iterators and lists\n",
        "\n",
        "## Python dictionary\n",
        "Unordered key and value pairs (since our data has headers). <br>\n",
        "Let's have a look at the first row of project_submissions:\n",
        "\n",
        "```\n",
        "OrderedDict([('creation_date', '2015-01-14'),\n",
        "             ('completion_date', '2015-01-16'),\n",
        "             ('assigned_rating', 'UNGRADED'),\n",
        "             ('account_key', '256'),\n",
        "             ('lesson_key', '3176718735'),\n",
        "             ('processing_state', 'EVALUATED')])\n",
        "```\n",
        "For the first line...\n",
        "* **Key:** creation_date \n",
        "* **Value:** 2015-01-14\n",
        "...and so on.\n",
        "\n",
        "## Iterator\n",
        "* A Python object that has multiple elements in it\n",
        "* You can access each element, but only once\n",
        "\n",
        "\n"
      ]
    },
    {
      "cell_type": "markdown",
      "metadata": {
        "id": "LDAIoezlVmko",
        "colab_type": "text"
      },
      "source": [
        "# Fixing Data Types\n"
      ]
    },
    {
      "cell_type": "code",
      "metadata": {
        "id": "4WdfdF6d5evn",
        "colab_type": "code",
        "outputId": "ca32cc4d-a749-4d93-ba58-89ac1867a13b",
        "colab": {
          "base_uri": "https://localhost:8080/",
          "height": 144
        }
      },
      "source": [
        "from datetime import datetime as dt\n",
        "\n",
        "# Takes a date as a string, and returns a Python datetime object. \n",
        "# If there is no date given, returns None\n",
        "def parse_date(date):\n",
        "    if date == '':\n",
        "        return None\n",
        "    else:\n",
        "        return dt.strptime(date, '%Y-%m-%d')\n",
        "    \n",
        "# Takes a string which is either an empty string or represents an integer,\n",
        "# and returns an int or None.\n",
        "def parse_maybe_int(i):\n",
        "    if i == '':\n",
        "        return None\n",
        "    else:\n",
        "        return int(i)\n",
        "\n",
        "# Clean up the data types in the enrollments table\n",
        "for enrollment in enrollments:\n",
        "    enrollment['cancel_date'] = parse_date(enrollment['cancel_date'])\n",
        "    enrollment['days_to_cancel'] = parse_maybe_int(enrollment['days_to_cancel'])\n",
        "    enrollment['is_canceled'] = enrollment['is_canceled'] == 'True'\n",
        "    enrollment['is_udacity'] = enrollment['is_udacity'] == 'True'\n",
        "    enrollment['join_date'] = parse_date(enrollment['join_date'])\n",
        "    \n",
        "enrollments[0]"
      ],
      "execution_count": 6,
      "outputs": [
        {
          "output_type": "execute_result",
          "data": {
            "text/plain": [
              "OrderedDict([('account_key', '448'),\n",
              "             ('status', 'canceled'),\n",
              "             ('join_date', datetime.datetime(2014, 11, 10, 0, 0)),\n",
              "             ('cancel_date', datetime.datetime(2015, 1, 14, 0, 0)),\n",
              "             ('days_to_cancel', 65),\n",
              "             ('is_udacity', True),\n",
              "             ('is_canceled', True)])"
            ]
          },
          "metadata": {
            "tags": []
          },
          "execution_count": 6
        }
      ]
    },
    {
      "cell_type": "code",
      "metadata": {
        "id": "-uuDR1fObatB",
        "colab_type": "code",
        "outputId": "3c2bbdbc-94ba-4290-d09e-c62387d44e64",
        "colab": {
          "base_uri": "https://localhost:8080/",
          "height": 126
        }
      },
      "source": [
        "# Clean up the data types in the engagement table\n",
        "for engagement_record in daily_engagement:\n",
        "    engagement_record['lessons_completed'] = int(float(engagement_record['lessons_completed']))\n",
        "    engagement_record['num_courses_visited'] = int(float(engagement_record['num_courses_visited']))\n",
        "    engagement_record['projects_completed'] = int(float(engagement_record['projects_completed']))\n",
        "    engagement_record['total_minutes_visited'] = float(engagement_record['total_minutes_visited'])\n",
        "    engagement_record['utc_date'] = parse_date(engagement_record['utc_date'])\n",
        "    \n",
        "daily_engagement[0]"
      ],
      "execution_count": 7,
      "outputs": [
        {
          "output_type": "execute_result",
          "data": {
            "text/plain": [
              "OrderedDict([('acct', '0'),\n",
              "             ('utc_date', datetime.datetime(2015, 1, 9, 0, 0)),\n",
              "             ('num_courses_visited', 1),\n",
              "             ('total_minutes_visited', 11.6793745),\n",
              "             ('lessons_completed', 0),\n",
              "             ('projects_completed', 0)])"
            ]
          },
          "metadata": {
            "tags": []
          },
          "execution_count": 7
        }
      ]
    },
    {
      "cell_type": "code",
      "metadata": {
        "id": "VGiQBqGHbe3d",
        "colab_type": "code",
        "outputId": "e51ffe43-5d8f-410b-ac79-6d881c58b832",
        "colab": {
          "base_uri": "https://localhost:8080/",
          "height": 126
        }
      },
      "source": [
        "# Clean up the data types in the submissions table\n",
        "for submission in project_submissions:\n",
        "    submission['completion_date'] = parse_date(submission['completion_date'])\n",
        "    submission['creation_date'] = parse_date(submission['creation_date'])\n",
        "\n",
        "project_submissions[0]"
      ],
      "execution_count": 8,
      "outputs": [
        {
          "output_type": "execute_result",
          "data": {
            "text/plain": [
              "OrderedDict([('creation_date', datetime.datetime(2015, 1, 14, 0, 0)),\n",
              "             ('completion_date', datetime.datetime(2015, 1, 16, 0, 0)),\n",
              "             ('assigned_rating', 'UNGRADED'),\n",
              "             ('account_key', '256'),\n",
              "             ('lesson_key', '3176718735'),\n",
              "             ('processing_state', 'EVALUATED')])"
            ]
          },
          "metadata": {
            "tags": []
          },
          "execution_count": 8
        }
      ]
    },
    {
      "cell_type": "markdown",
      "metadata": {
        "id": "pjL8-kEvcQxV",
        "colab_type": "text"
      },
      "source": [
        "# Quiz: Questions about Student Data\n",
        "\n",
        "## Question Phase\n",
        "Be curious!<br>\n",
        "Example questions:\n",
        "* How long to submit questions?\n",
        "* How do students who pass their projects differ from those who don't?\n",
        "<br>\n",
        "\n",
        "##Think about 5 questions to ask\n",
        "1. Does the number of lessons completed have any correlation with projects completed?\n",
        "2. Does the total minutes a student stayed on the course have any relation to if they completed the project or not?\n",
        "3. Does the ungraded or incomplete project have any relation to the lesson key?\n",
        "4. What is the average of days to cancellation of a course?\n",
        "5. Has the number of courses visited any relation to completion of the project or no?"
      ]
    },
    {
      "cell_type": "markdown",
      "metadata": {
        "id": "_p5S2Ac2gYyQ",
        "colab_type": "text"
      },
      "source": [
        "# Investigating the data\n",
        "Quiz 1.9"
      ]
    },
    {
      "cell_type": "code",
      "metadata": {
        "id": "B2GRngeTcHsY",
        "colab_type": "code",
        "colab": {}
      },
      "source": [
        "# Function to open our files\n",
        "def read_csv(filename):\n",
        "    with open(filename, 'rb') as f:\n",
        "        reader = csv.DictReader(f)\n",
        "        return list(reader)\n",
        "\n",
        "\n",
        "### For each of these three tables, find the number of rows in the table and\n",
        "### the number of unique students in the table. To find the number of unique\n",
        "### students, you might want to create a set of the account keys in each table.\n",
        "\n",
        "enrollment_num_rows = 0             # Replace this with your code\n",
        "enrollment_num_unique_students = 0  # Replace this with your code\n",
        "\n",
        "engagement_num_rows = 0             # Replace this with your code\n",
        "engagement_num_unique_students = 0  # Replace this with your code\n",
        "\n",
        "submission_num_rows = 0             # Replace this with your code\n",
        "submission_num_unique_students = 0  # Replace this with your code"
      ],
      "execution_count": 0,
      "outputs": []
    },
    {
      "cell_type": "code",
      "metadata": {
        "id": "3HSzyZnFgnFh",
        "colab_type": "code",
        "outputId": "4a18630a-e747-415f-9d6f-26a5c3f283c7",
        "colab": {
          "base_uri": "https://localhost:8080/",
          "height": 72
        }
      },
      "source": [
        "# Let us clean up our code and use a function to open files\n",
        "enrollments_filename = '/content/enrollments.csv'\n",
        "engagement_filename = '/content/daily_engagement.csv'\n",
        "submissions_filename = '/content/project_submissions.csv'\n",
        "\n",
        "# Function to count the number of rows in the table\n",
        "def num_rows(filename):\n",
        "  data = read_csv(filename)\n",
        "  num_rows = len(data)\n",
        "  return num_rows\n",
        "\n",
        "print(f\"Number of rows for enrollment data: {num_rows(enrollments_filename)}\")\n",
        "print(f\"Number of rows for engagement data: {num_rows(engagement_filename)}\")\n",
        "print(f\"Number of rows for submission data: {num_rows(submissions_filename)}\")"
      ],
      "execution_count": 10,
      "outputs": [
        {
          "output_type": "stream",
          "text": [
            "Number of rows for enrollment data: 1640\n",
            "Number of rows for engagement data: 136240\n",
            "Number of rows for submission data: 3642\n"
          ],
          "name": "stdout"
        }
      ]
    },
    {
      "cell_type": "code",
      "metadata": {
        "id": "OxUxWCGug1Eo",
        "colab_type": "code",
        "colab": {}
      },
      "source": [
        "# Unique value in our data\n",
        "data_enrollment = read_csv(enrollments_filename)\n",
        "data_engagement = read_csv(engagement_filename)\n",
        "data_submission = read_csv(submissions_filename)"
      ],
      "execution_count": 0,
      "outputs": []
    },
    {
      "cell_type": "code",
      "metadata": {
        "id": "Gr4_ekoPk7Ly",
        "colab_type": "code",
        "outputId": "8f66f225-f247-4d2a-f467-06396da076ca",
        "colab": {
          "base_uri": "https://localhost:8080/",
          "height": 72
        }
      },
      "source": [
        "# Method to count unique number of students\n",
        "def unique_students(data, column_name):\n",
        "  unique_students = set()\n",
        "  for d in data:\n",
        "    unique_students.add(d[column_name])\n",
        "  return len(unique_students)\n",
        "\n",
        "\n",
        "print(f\"Number of unique students in enrollment data: {unique_students(data_enrollment, 'account_key')}\")\n",
        "print(f\"Number of unique students in engagement data: {unique_students(data_engagement, 'acct')}\")\n",
        "print(f\"Number of unique students in submission data: {unique_students(data_submission, 'account_key')}\")\n"
      ],
      "execution_count": 12,
      "outputs": [
        {
          "output_type": "stream",
          "text": [
            "Number of unique students in enrollment data: 1302\n",
            "Number of unique students in engagement data: 1237\n",
            "Number of unique students in submission data: 743\n"
          ],
          "name": "stdout"
        }
      ]
    },
    {
      "cell_type": "markdown",
      "metadata": {
        "id": "TmTV3xy-rriC",
        "colab_type": "text"
      },
      "source": [
        "# set() method\n",
        "* Elements you want to include in the set in the form of an iterable object such as a string.\n",
        "* A set is like a dictionary with keys but no values\n",
        "* Removes duplicate values\n",
        "* More information: [Python Tutorial: Sets - Set Methods and Operations to Solve Common Problems](https://youtu.be/r3R3h5ly_8g)"
      ]
    },
    {
      "cell_type": "markdown",
      "metadata": {
        "id": "tTO4f4nu5L8q",
        "colab_type": "text"
      },
      "source": [
        "# Problems in the Data\n",
        "Lesson 1.10\n",
        "\n",
        "## Rename the 'acct' column to 'account_key'\n",
        "**First task**\n",
        "* Rename the 'acct' column to 'account_key' in data_engagement \n"
      ]
    },
    {
      "cell_type": "code",
      "metadata": {
        "id": "iFy5O2ZE-cMU",
        "colab_type": "code",
        "outputId": "d1c98d1e-d3e1-4742-fa89-a9646cd64310",
        "colab": {
          "base_uri": "https://localhost:8080/",
          "height": 55
        }
      },
      "source": [
        "print(f\"Column name before renaming it: {data_engagement[0]}\")"
      ],
      "execution_count": 13,
      "outputs": [
        {
          "output_type": "stream",
          "text": [
            "Column name before renaming it: OrderedDict([('acct', '0'), ('utc_date', '2015-01-09'), ('num_courses_visited', '1.0'), ('total_minutes_visited', '11.6793745'), ('lessons_completed', '0.0'), ('projects_completed', '0.0')])\n"
          ],
          "name": "stdout"
        }
      ]
    },
    {
      "cell_type": "code",
      "metadata": {
        "id": "p5ZolBns1L9L",
        "colab_type": "code",
        "colab": {}
      },
      "source": [
        "new_column_name = 'account_key'\n",
        "current_column_name = 'acct'\n",
        "\n",
        "for d in data_engagement:\n",
        "  d[new_column_name] = d.pop(current_column_name)\n",
        "  #d[new_column_name] = d[current_column_name]\n",
        "  #del(d[current_column_name])\n",
        " "
      ],
      "execution_count": 0,
      "outputs": []
    },
    {
      "cell_type": "code",
      "metadata": {
        "id": "z7t5BnmO8Lu6",
        "colab_type": "code",
        "outputId": "ba353d06-bcbf-44c3-ff73-90b86f8ad611",
        "colab": {
          "base_uri": "https://localhost:8080/",
          "height": 126
        }
      },
      "source": [
        "# Check if we successfully renamed the column name\n",
        "data_engagement[0]\n",
        "\n",
        "# Get the value of 'account_key' to see if it works\n",
        "#data_engagement[0]['account_key']"
      ],
      "execution_count": 15,
      "outputs": [
        {
          "output_type": "execute_result",
          "data": {
            "text/plain": [
              "OrderedDict([('utc_date', '2015-01-09'),\n",
              "             ('num_courses_visited', '1.0'),\n",
              "             ('total_minutes_visited', '11.6793745'),\n",
              "             ('lessons_completed', '0.0'),\n",
              "             ('projects_completed', '0.0'),\n",
              "             ('account_key', '0')])"
            ]
          },
          "metadata": {
            "tags": []
          },
          "execution_count": 15
        }
      ]
    },
    {
      "cell_type": "code",
      "metadata": {
        "id": "GVZsBwHoFvrj",
        "colab_type": "code",
        "outputId": "ab4b76e6-75b7-40ad-c2ca-2e7aa9bf6075",
        "colab": {
          "base_uri": "https://localhost:8080/",
          "height": 144
        }
      },
      "source": [
        "data_enrollment[0]"
      ],
      "execution_count": 16,
      "outputs": [
        {
          "output_type": "execute_result",
          "data": {
            "text/plain": [
              "OrderedDict([('account_key', '448'),\n",
              "             ('status', 'canceled'),\n",
              "             ('join_date', '2014-11-10'),\n",
              "             ('cancel_date', '2015-01-14'),\n",
              "             ('days_to_cancel', '65'),\n",
              "             ('is_udacity', 'True'),\n",
              "             ('is_canceled', 'True')])"
            ]
          },
          "metadata": {
            "tags": []
          },
          "execution_count": 16
        }
      ]
    },
    {
      "cell_type": "markdown",
      "metadata": {
        "id": "gsIt1KWTHsDi",
        "colab_type": "text"
      },
      "source": [
        "# Missing Engagement Records\n",
        "Lesson 1.11\n",
        "\n"
      ]
    },
    {
      "cell_type": "code",
      "metadata": {
        "id": "wjgc0h94HVln",
        "colab_type": "code",
        "colab": {}
      },
      "source": [
        "# Modify function to return only unique students\n",
        "def all_unique_students(data):\n",
        "  unique_students = set()\n",
        "  for d in data:\n",
        "    unique_students.add(d['account_key'])\n",
        "  return unique_students\n"
      ],
      "execution_count": 0,
      "outputs": []
    },
    {
      "cell_type": "code",
      "metadata": {
        "id": "gMZFrBavIYbb",
        "colab_type": "code",
        "colab": {}
      },
      "source": [
        "# Create a variable to store it\n",
        "unique_engagement_students = all_unique_students(data_engagement)"
      ],
      "execution_count": 0,
      "outputs": []
    },
    {
      "cell_type": "code",
      "metadata": {
        "id": "BLNhimCiIgoC",
        "colab_type": "code",
        "outputId": "7c8dcad4-8c68-4c39-cab3-d40bc191124e",
        "colab": {
          "base_uri": "https://localhost:8080/",
          "height": 35
        }
      },
      "source": [
        "print(f\"Length of all unique engagement students: {len(unique_engagement_students)}\")"
      ],
      "execution_count": 19,
      "outputs": [
        {
          "output_type": "stream",
          "text": [
            "Length of all unique engagement students: 1237\n"
          ],
          "name": "stdout"
        }
      ]
    },
    {
      "cell_type": "code",
      "metadata": {
        "id": "dF7mjNC9NOct",
        "colab_type": "code",
        "outputId": "84653f36-a8dc-42b9-ea2c-df387b633eae",
        "colab": {
          "base_uri": "https://localhost:8080/",
          "height": 144
        }
      },
      "source": [
        "# Add function to see missing records (first row)\n",
        "def missing_records(data, unique_students):\n",
        "  for d in data:\n",
        "    student = d['account_key']\n",
        "    if student not in unique_students:\n",
        "      return d\n",
        "      # Adding break to only loop once and see one of the records\n",
        "      break\n",
        "    \n",
        "missing_records(data_enrollment, unique_engagement_students)"
      ],
      "execution_count": 20,
      "outputs": [
        {
          "output_type": "execute_result",
          "data": {
            "text/plain": [
              "OrderedDict([('account_key', '1219'),\n",
              "             ('status', 'canceled'),\n",
              "             ('join_date', '2014-11-12'),\n",
              "             ('cancel_date', '2014-11-12'),\n",
              "             ('days_to_cancel', '0'),\n",
              "             ('is_udacity', 'False'),\n",
              "             ('is_canceled', 'True')])"
            ]
          },
          "metadata": {
            "tags": []
          },
          "execution_count": 20
        }
      ]
    },
    {
      "cell_type": "markdown",
      "metadata": {
        "id": "4ii1l-kKQiHM",
        "colab_type": "text"
      },
      "source": [
        "#### In the above code the join date and cancel date are the same, this might be the case for no records in the engagement data."
      ]
    },
    {
      "cell_type": "markdown",
      "metadata": {
        "id": "NA1N6j0oQvEv",
        "colab_type": "text"
      },
      "source": [
        "# Checking for More Problem Records\n",
        "Lesson 1.12\n",
        "\n",
        "* We will go ahead and write a function to filter out students joining for less than 1 day and see how many more records there are in the data."
      ]
    },
    {
      "cell_type": "code",
      "metadata": {
        "id": "1d6JA_kUOM-1",
        "colab_type": "code",
        "outputId": "bb52b62f-9778-410c-beb6-ae8ae6390fde",
        "colab": {
          "base_uri": "https://localhost:8080/",
          "height": 399
        }
      },
      "source": [
        "# Missing records for students enrolled at least 1 day\n",
        "\n",
        "def missing_records_enrolled(data, unique_students):\n",
        "  number_of_students_missing = []\n",
        "  for d in data:\n",
        "    student = d['account_key']\n",
        "\n",
        "    if student not in unique_students and d['join_date'] != d['cancel_date']:\n",
        "      number_of_students_missing.append(d)\n",
        "      #print(d)\n",
        "      \n",
        "  return number_of_students_missing\n",
        "      \n",
        "\n",
        "        \n",
        "# See the values\n",
        "missing_records_enrolled(data_enrollment, unique_engagement_students)\n"
      ],
      "execution_count": 21,
      "outputs": [
        {
          "output_type": "execute_result",
          "data": {
            "text/plain": [
              "[OrderedDict([('account_key', '1304'),\n",
              "              ('status', 'canceled'),\n",
              "              ('join_date', '2015-01-10'),\n",
              "              ('cancel_date', '2015-03-10'),\n",
              "              ('days_to_cancel', '59'),\n",
              "              ('is_udacity', 'True'),\n",
              "              ('is_canceled', 'True')]),\n",
              " OrderedDict([('account_key', '1304'),\n",
              "              ('status', 'canceled'),\n",
              "              ('join_date', '2015-03-10'),\n",
              "              ('cancel_date', '2015-06-17'),\n",
              "              ('days_to_cancel', '99'),\n",
              "              ('is_udacity', 'True'),\n",
              "              ('is_canceled', 'True')]),\n",
              " OrderedDict([('account_key', '1101'),\n",
              "              ('status', 'current'),\n",
              "              ('join_date', '2015-02-25'),\n",
              "              ('cancel_date', ''),\n",
              "              ('days_to_cancel', ''),\n",
              "              ('is_udacity', 'True'),\n",
              "              ('is_canceled', 'False')])]"
            ]
          },
          "metadata": {
            "tags": []
          },
          "execution_count": 21
        }
      ]
    },
    {
      "cell_type": "markdown",
      "metadata": {
        "id": "37WGBA_uZkrb",
        "colab_type": "text"
      },
      "source": [
        "# Tracking Down the Remaining Problems\n",
        "Lesson 1.13\n",
        "\n",
        "We will go ahead and remove the Udacity test accounts.\n",
        "1. Write function to find the account kets associated with Udacity test accounts.\n",
        "2. Remove those account keys from the datasets by writing a function for it."
      ]
    },
    {
      "cell_type": "code",
      "metadata": {
        "id": "fqfEm-sJqUtZ",
        "colab_type": "code",
        "colab": {}
      },
      "source": [
        "# Function to find the Udacity test account keys\n",
        "def get_test_account_key(data):\n",
        "  account_keys = set()\n",
        "  for d in data_enrollment:\n",
        "    if(d['is_udacity'] in 'True'):\n",
        "      account_keys.add(d['account_key'])\n",
        "  return account_keys\n",
        "     "
      ],
      "execution_count": 0,
      "outputs": []
    },
    {
      "cell_type": "code",
      "metadata": {
        "id": "JqCp8_Nnqv1h",
        "colab_type": "code",
        "outputId": "548e69af-6b40-42e2-b66a-846b8992a5dc",
        "colab": {
          "base_uri": "https://localhost:8080/",
          "height": 35
        }
      },
      "source": [
        "# Display the test accounts\n",
        "udacity_test_accounts = get_test_account_key(data_enrollment)\n",
        "udacity_test_accounts"
      ],
      "execution_count": 54,
      "outputs": [
        {
          "output_type": "execute_result",
          "data": {
            "text/plain": [
              "{'1069', '1101', '1304', '312', '448', '818'}"
            ]
          },
          "metadata": {
            "tags": []
          },
          "execution_count": 54
        }
      ]
    },
    {
      "cell_type": "code",
      "metadata": {
        "id": "_mQ7PTRtqts6",
        "colab_type": "code",
        "colab": {}
      },
      "source": [
        "#import copy\n",
        "\n",
        "def remove_udacity_test_accounts(data):\n",
        "  # Create a copy of a dataset\n",
        "  #new_data = copy.deepcopy(data)\n",
        "\n",
        "  # Create a new list to pass in none test accounts\n",
        "  updated_data = []\n",
        "\n",
        "  for d in data:\n",
        "    if d['account_key'] not in udacity_test_accounts:\n",
        "      updated_data.append(d)\n",
        "      #data.remove(d)\n",
        "\n",
        "  # Return updated data\n",
        "  return updated_data"
      ],
      "execution_count": 0,
      "outputs": []
    },
    {
      "cell_type": "code",
      "metadata": {
        "id": "5yrRKFSJrkMt",
        "colab_type": "code",
        "outputId": "3a81bbdf-4e36-4061-9c7e-8d1cc0713ab3",
        "colab": {
          "base_uri": "https://localhost:8080/",
          "height": 144
        }
      },
      "source": [
        "new_enrollment_dataset = remove_udacity_test_accounts(data_enrollment)\n",
        "new_enrollment_dataset[0]"
      ],
      "execution_count": 57,
      "outputs": [
        {
          "output_type": "execute_result",
          "data": {
            "text/plain": [
              "OrderedDict([('account_key', '700'),\n",
              "             ('status', 'canceled'),\n",
              "             ('join_date', '2014-11-10'),\n",
              "             ('cancel_date', '2014-11-16'),\n",
              "             ('days_to_cancel', '6'),\n",
              "             ('is_udacity', 'False'),\n",
              "             ('is_canceled', 'True')])"
            ]
          },
          "metadata": {
            "tags": []
          },
          "execution_count": 57
        }
      ]
    },
    {
      "cell_type": "code",
      "metadata": {
        "id": "0fLbX1LZz3Se",
        "colab_type": "code",
        "outputId": "2add2f7d-2e43-4287-a433-8120e1092197",
        "colab": {
          "base_uri": "https://localhost:8080/",
          "height": 144
        }
      },
      "source": [
        "# We still have the old values in our previous dataset\n",
        "data_enrollment[0]"
      ],
      "execution_count": 58,
      "outputs": [
        {
          "output_type": "execute_result",
          "data": {
            "text/plain": [
              "OrderedDict([('account_key', '448'),\n",
              "             ('status', 'canceled'),\n",
              "             ('join_date', '2014-11-10'),\n",
              "             ('cancel_date', '2015-01-14'),\n",
              "             ('days_to_cancel', '65'),\n",
              "             ('is_udacity', 'True'),\n",
              "             ('is_canceled', 'True')])"
            ]
          },
          "metadata": {
            "tags": []
          },
          "execution_count": 58
        }
      ]
    },
    {
      "cell_type": "markdown",
      "metadata": {
        "id": "9XzWAiw17_KD",
        "colab_type": "text"
      },
      "source": [
        "# Exploratory Data Analysis\n",
        "Lesson 1.14\n",
        "\n",
        "* Create a dictionary named paid_students\n",
        "* The dictionary should contain one of these:\n",
        "  1.  Students who have not cancelled yet (is_canceled is None)\n",
        "  2. Students who have stayed enrolled for more than 7 days (days_to_cancel > 7)"
      ]
    },
    {
      "cell_type": "markdown",
      "metadata": {
        "id": "iazFvq-NY93g",
        "colab_type": "text"
      },
      "source": [
        "For the quiz above I could not find a solution for comparing the values. I get a lot of errors comparing dict objects int to string even though I checked the values."
      ]
    },
    {
      "cell_type": "code",
      "metadata": {
        "id": "rjogJ93yi4AR",
        "colab_type": "code",
        "colab": {
          "base_uri": "https://localhost:8080/",
          "height": 35
        },
        "outputId": "26357186-a65a-4b8a-a512-0f5568483674"
      },
      "source": [
        "paid_students = {}\n",
        "\n",
        "for enrollment in new_enrollment_dataset:\n",
        "  if not enrollment['is_canceled'] or enrollment['days_to_cancel']: \n",
        "    if int(enrollment['days_to_cancel']) > 7:\n",
        "      account_key = enrollment['account_key']\n",
        "      enrollment_date = enrollment['join_date']\n",
        "      paid_students[account_key] = enrollment_date\n",
        "\n",
        "      #if account_key not in paid_students or enrollment_date > paid_students[account_key]:\n",
        "        #paid_students[account_key] = enrollment_date\n",
        "       \n",
        "\n",
        "len(paid_students)"
      ],
      "execution_count": 150,
      "outputs": [
        {
          "output_type": "execute_result",
          "data": {
            "text/plain": [
              "445"
            ]
          },
          "metadata": {
            "tags": []
          },
          "execution_count": 150
        }
      ]
    },
    {
      "cell_type": "markdown",
      "metadata": {
        "id": "N_pKCl1prjwN",
        "colab_type": "text"
      },
      "source": [
        "# Getting Data from First Week\n",
        "Lesson 1.15\n",
        "\n",
        "* We need to start by importing datetime to be able to convert this to difference of dates"
      ]
    },
    {
      "cell_type": "code",
      "metadata": {
        "id": "N22hKsOIr2ba",
        "colab_type": "code",
        "colab": {}
      },
      "source": [
        "# Import datetime library\n",
        "import datetime\n",
        "from datetime import timedelta, datetime, date\n",
        "\n",
        "# Updating function\n",
        "def within_one_week(join_date, engagement_date):\n",
        "  # Convert string objects to datetime\n",
        "  converted_join_date = datetime.strptime(join_date, \"%Y-%m-%d\")\n",
        "  converted_engagement_date = datetime.strptime(engagement_date, \"%Y-%m-%d\")\n",
        "\n",
        "  # Calculate difference\n",
        "  time_delta = converted_engagement_date - converted_join_date\n",
        "  return time_delta.days < 7"
      ],
      "execution_count": 0,
      "outputs": []
    },
    {
      "cell_type": "code",
      "metadata": {
        "id": "3b96A8BaAVEH",
        "colab_type": "code",
        "colab": {
          "base_uri": "https://localhost:8080/",
          "height": 35
        },
        "outputId": "961e1c44-f914-4f45-a31a-7f93c9a19fe1"
      },
      "source": [
        "within_one_week('2014-11-10',  '2014-11-16')"
      ],
      "execution_count": 222,
      "outputs": [
        {
          "output_type": "execute_result",
          "data": {
            "text/plain": [
              "True"
            ]
          },
          "metadata": {
            "tags": []
          },
          "execution_count": 222
        }
      ]
    },
    {
      "cell_type": "code",
      "metadata": {
        "id": "Crn0CUID2bS-",
        "colab_type": "code",
        "colab": {}
      },
      "source": [
        "def remove_free_trials(data):\n",
        "  new_data = []\n",
        "  for d in data:\n",
        "    if d['account_key'] in paid_students:\n",
        "      new_data.append(d)\n",
        "  return new_data\n",
        "\n"
      ],
      "execution_count": 0,
      "outputs": []
    },
    {
      "cell_type": "code",
      "metadata": {
        "id": "84LDea97_HKc",
        "colab_type": "code",
        "colab": {
          "base_uri": "https://localhost:8080/",
          "height": 126
        },
        "outputId": "74ab5732-15b0-435c-b541-65567b11ed35"
      },
      "source": [
        "new_engagement_dataset = remove_udacity_test_accounts(data_engagement)\n",
        "new_engagement_dataset[0]"
      ],
      "execution_count": 198,
      "outputs": [
        {
          "output_type": "execute_result",
          "data": {
            "text/plain": [
              "OrderedDict([('utc_date', '2015-01-09'),\n",
              "             ('num_courses_visited', '1.0'),\n",
              "             ('total_minutes_visited', '11.6793745'),\n",
              "             ('lessons_completed', '0.0'),\n",
              "             ('projects_completed', '0.0'),\n",
              "             ('account_key', '0')])"
            ]
          },
          "metadata": {
            "tags": []
          },
          "execution_count": 198
        }
      ]
    },
    {
      "cell_type": "code",
      "metadata": {
        "id": "pxyzPR8L-g86",
        "colab_type": "code",
        "colab": {
          "base_uri": "https://localhost:8080/",
          "height": 35
        },
        "outputId": "642a23f5-7499-4765-8176-26662031a67f"
      },
      "source": [
        "paid_enrollments = remove_free_trials(new_enrollment_dataset)\n",
        "paid_engagement = remove_free_trials(new_engagement_dataset)\n",
        "len(paid_enrollments)\n",
        "len(paid_engagement)"
      ],
      "execution_count": 199,
      "outputs": [
        {
          "output_type": "execute_result",
          "data": {
            "text/plain": [
              "55675"
            ]
          },
          "metadata": {
            "tags": []
          },
          "execution_count": 199
        }
      ]
    },
    {
      "cell_type": "code",
      "metadata": {
        "id": "bweanrNy8QYK",
        "colab_type": "code",
        "colab": {
          "base_uri": "https://localhost:8080/",
          "height": 144
        },
        "outputId": "47ceebca-2d8b-4a4e-b073-6026c59d1fd4"
      },
      "source": [
        "new_enrollment_dataset[0]"
      ],
      "execution_count": 200,
      "outputs": [
        {
          "output_type": "execute_result",
          "data": {
            "text/plain": [
              "OrderedDict([('account_key', '700'),\n",
              "             ('status', 'canceled'),\n",
              "             ('join_date', '2014-11-10'),\n",
              "             ('cancel_date', '2014-11-16'),\n",
              "             ('days_to_cancel', '6'),\n",
              "             ('is_udacity', 'False'),\n",
              "             ('is_canceled', 'True')])"
            ]
          },
          "metadata": {
            "tags": []
          },
          "execution_count": 200
        }
      ]
    },
    {
      "cell_type": "code",
      "metadata": {
        "id": "e6w5GOJZkIHl",
        "colab_type": "code",
        "colab": {}
      },
      "source": [
        "paid_engagement_in_first_week = []\n",
        "\n",
        "for engagement in paid_engagement:\n",
        "  account_key = engagement['account_key']\n",
        "  #print(account_key)\n",
        "  #break\n",
        "  join_date = paid_students[account_key]\n",
        "  engagement_date = engagement['utc_date']\n",
        "\n",
        "  if within_one_week(join_date, engagement_date):\n",
        "    paid_engagement_in_first_week.append(engagement)\n",
        "\n",
        "#paid_engagement_in_first_week\n"
      ],
      "execution_count": 0,
      "outputs": []
    },
    {
      "cell_type": "code",
      "metadata": {
        "id": "Pd_WA_8ezoyr",
        "colab_type": "code",
        "colab": {
          "base_uri": "https://localhost:8080/",
          "height": 35
        },
        "outputId": "b5c85db6-78e3-433d-8d39-9a9fe87461fa"
      },
      "source": [
        "len(paid_engagement_in_first_week)"
      ],
      "execution_count": 225,
      "outputs": [
        {
          "output_type": "execute_result",
          "data": {
            "text/plain": [
              "8922"
            ]
          },
          "metadata": {
            "tags": []
          },
          "execution_count": 225
        }
      ]
    },
    {
      "cell_type": "code",
      "metadata": {
        "id": "W6kEXqZRANLd",
        "colab_type": "code",
        "colab": {
          "base_uri": "https://localhost:8080/",
          "height": 126
        },
        "outputId": "3f0bf04f-8165-48b4-f0d7-598987060433"
      },
      "source": [
        "paid_engagement_in_first_week[0]"
      ],
      "execution_count": 226,
      "outputs": [
        {
          "output_type": "execute_result",
          "data": {
            "text/plain": [
              "OrderedDict([('utc_date', '2014-11-10'),\n",
              "             ('num_courses_visited', '2.0'),\n",
              "             ('total_minutes_visited', '136.1835995'),\n",
              "             ('lessons_completed', '0.0'),\n",
              "             ('projects_completed', '0.0'),\n",
              "             ('account_key', '3')])"
            ]
          },
          "metadata": {
            "tags": []
          },
          "execution_count": 226
        }
      ]
    },
    {
      "cell_type": "markdown",
      "metadata": {
        "id": "tuJ8_2A1Foei",
        "colab_type": "text"
      },
      "source": [
        "# Exploring Student Engagement"
      ]
    },
    {
      "cell_type": "code",
      "metadata": {
        "id": "tpSozYiKDmAW",
        "colab_type": "code",
        "colab": {
          "base_uri": "https://localhost:8080/",
          "height": 35
        },
        "outputId": "e57998e2-bce8-4fd5-dbc6-29f429ec4d74"
      },
      "source": [
        "from collections import defaultdict\n",
        "# Create a dictionary of engagement grouped by student.\n",
        "# The keys are account keys, and the values are lists of engagement records.\n",
        "\n",
        "engagement_by_account = defaultdict(list)\n",
        "\n",
        "for d in paid_engagement_in_first_week:\n",
        "  account_key = d['account_key']\n",
        "  engagement_by_account[account_key].append(d)\n",
        "\n",
        "len(engagement_by_account)"
      ],
      "execution_count": 230,
      "outputs": [
        {
          "output_type": "execute_result",
          "data": {
            "text/plain": [
              "445"
            ]
          },
          "metadata": {
            "tags": []
          },
          "execution_count": 230
        }
      ]
    },
    {
      "cell_type": "code",
      "metadata": {
        "id": "n-ExpGpTGVTg",
        "colab_type": "code",
        "colab": {
          "base_uri": "https://localhost:8080/",
          "height": 35
        },
        "outputId": "858dc761-42f5-4a51-e7b9-a1445a617db8"
      },
      "source": [
        "total_minutes_per_account = {}\n",
        "\n",
        "for account_key, student_engagement in engagement_by_account.items():\n",
        "  total_minutes = 0\n",
        "  #print(account_key)\n",
        "  #break\n",
        "  for d in student_engagement:\n",
        "    total_minutes += float(d['total_minutes_visited'])\n",
        "  total_minutes_per_account[account_key] = total_minutes\n",
        "\n",
        "\n",
        "len(total_minutes_per_account)"
      ],
      "execution_count": 246,
      "outputs": [
        {
          "output_type": "execute_result",
          "data": {
            "text/plain": [
              "445"
            ]
          },
          "metadata": {
            "tags": []
          },
          "execution_count": 246
        }
      ]
    },
    {
      "cell_type": "code",
      "metadata": {
        "id": "mcnzdROpHfDh",
        "colab_type": "code",
        "colab": {
          "base_uri": "https://localhost:8080/",
          "height": 90
        },
        "outputId": "3b069d8f-2769-463f-c4da-ae889b0075fa"
      },
      "source": [
        "import numpy as np\n",
        "\n",
        "# Convert dict to list\n",
        "total_student_minutes = list(total_minutes_per_account.values())\n",
        "\n",
        "print(f\"Mean: {np.mean(total_student_minutes)}\")\n",
        "print(f\"Standard deviation: {np.std(total_student_minutes)}\")\n",
        "print(f\"Minimum: {np.min(total_student_minutes)}\")\n",
        "print(f\"Maximum: {np.max(total_student_minutes)}\")"
      ],
      "execution_count": 251,
      "outputs": [
        {
          "output_type": "stream",
          "text": [
            "Mean: 576.1916883160804\n",
            "Standard deviation: 1088.3015567868192\n",
            "Minimum: 0.0\n",
            "Maximum: 10568.100867332541\n"
          ],
          "name": "stdout"
        }
      ]
    },
    {
      "cell_type": "code",
      "metadata": {
        "id": "LpuuqOy1IUwp",
        "colab_type": "code",
        "colab": {}
      },
      "source": [
        ""
      ],
      "execution_count": 0,
      "outputs": []
    }
  ]
}